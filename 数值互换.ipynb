{
  "nbformat": 4,
  "nbformat_minor": 0,
  "metadata": {
    "colab": {
      "name": "数值互换",
      "provenance": [],
      "collapsed_sections": [],
      "include_colab_link": true
    },
    "kernelspec": {
      "display_name": "Python 3",
      "name": "python3"
    }
  },
  "cells": [
    {
      "cell_type": "markdown",
      "metadata": {
        "id": "view-in-github",
        "colab_type": "text"
      },
      "source": [
        "<a href=\"https://colab.research.google.com/github/DQSLILI/LPython/blob/main/%E6%95%B0%E5%80%BC%E4%BA%92%E6%8D%A2.ipynb\" target=\"_parent\"><img src=\"https://colab.research.google.com/assets/colab-badge.svg\" alt=\"Open In Colab\"/></a>"
      ]
    },
    {
      "cell_type": "code",
      "metadata": {
        "id": "5tQ4nqx0xZg8",
        "outputId": "1fd4af0c-9884-415b-8066-cb0e422700d2",
        "colab": {
          "base_uri": "https://localhost:8080/"
        }
      },
      "source": [
        "a=3\n",
        "b=5\n",
        "c=a\n",
        "a=b\n",
        "b=c\n",
        "print(\"b=5\",\"a=3\")\n",
        "print(\"b=\",b,\"a=\",a)"
      ],
      "execution_count": null,
      "outputs": [
        {
          "output_type": "stream",
          "text": [
            "b=5 a=3\n",
            "b= 3 a= 5\n"
          ],
          "name": "stdout"
        }
      ]
    },
    {
      "cell_type": "code",
      "metadata": {
        "id": "PJsaTUvj2mID",
        "outputId": "d0bde9ac-f3ae-44f8-acb2-472cc7aef6c3",
        "colab": {
          "base_uri": "https://localhost:8080/"
        }
      },
      "source": [
        "a=3\n",
        "b=5\n",
        "a,b=b,a\n",
        "print(\"b=5\",\"a=3\")\n",
        "print(\"b=\",b,\"a=\",a)"
      ],
      "execution_count": null,
      "outputs": [
        {
          "output_type": "stream",
          "text": [
            "b=5 a=3\n",
            "b= 3 a= 5\n"
          ],
          "name": "stdout"
        }
      ]
    }
  ]
}